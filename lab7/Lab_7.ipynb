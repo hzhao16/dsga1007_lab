{
 "cells": [
  {
   "cell_type": "markdown",
   "metadata": {},
   "source": [
    "# DSGA1007 - Programming for Data Science Lab\n",
    "- Modules\n",
    "- Packages\n",
    "- Object Oriented Programming"
   ]
  },
  {
   "cell_type": "markdown",
   "metadata": {},
   "source": [
    "## Relationship with Clean Code and Software Architecture\n",
    "Remember last class when we were talking abour **software structure**? Today we will review the details of what building blocks there are to create **structure** in our code.\n",
    "\n",
    "As we discussed last week too, when you're designing software for the *long run* you want to make it **Maintainable**.\n",
    "\n",
    "There are also other aspects involving *the people who actually use the code*, let's call them *the client*. You want *the client* to be happy, so once you give him/her a solution to their problem, you don't want to create more problems for him/her. In particular, once you committed with a particular *way of doing things* or a particular communication *interface* with *the client* you should try not to break it. \n",
    "\n",
    "This notion is called [**backward compatibility**](https://en.wikipedia.org/wiki/Backward_compatibility). \n",
    "\n",
    "Ideally you should be able to extend your functionality without breaking that *contract* you made with *the client*.\n",
    "\n",
    "## Module\n",
    "From the \"Learning Python Book\":\n",
    "> The **highest-level program organization unit**, which packages program code and data for **reuse**, and provides self-contained namespaces that minimize variable name clashes across your programs.\n",
    "As we’ve seen, Python programs are composed of **multiple module files linked together by import statements**, and each module file is **a package of variables**—that is, a namespace. Just as importantly, each module is a self-contained namespace: **one module file cannot see the names defined in another file unless it explicitly imports that other file**. Because of this, modules serve to minimize name collisions in your code—because each file is a self-contained namespace, the names in one file cannot clash with those in another, even if they are spelled the same way. \n",
    "\n",
    "\n",
    "To use a specific module inside your Python *script*, you need to import that module. \n",
    "\n",
    "Some ways to do this are:\n",
    "\n",
    "``` \n",
    "import <module> as <md> # client fetches a module (module_name) as a whole\n",
    "from <module> import <something> # client fetches a particular name from module\n",
    "imp.reload\t# sometimes this is useful when developing a module and using it within Jupyter notebooks\n",
    "```"
   ]
  },
  {
   "cell_type": "markdown",
   "metadata": {},
   "source": [
    "## Package\n",
    "From the Learning Python Book:\n",
    "> In addition to a module name, an import can name a directory path. A directory of Python code is said to be a package, so such imports are known as package imports. In effect, a package import turns a directory on your computer into another Python name- space, with attributes corresponding to the subdirectories and module files that the directory contains.\n",
    "\n",
    "### Package \\_\\_init\\_\\_.py Files\n",
    "From the Learning Python Book:\n",
    "> If you choose to use package imports, there is one more constraint you must follow: at least until Python 3.3, each directory named within the path of a package import state- ment must contain a file named __init__.py, or your package imports will fail.\n",
    "> The __init__.py files can contain Python code, just like normal module files. Their names are special because their code is run automatically the first time a Python pro- gram imports a directory, and thus serves primarily as a hook for performing initiali- zation steps required by the package. These files can also be completely empty, though, and sometimes have additional roles.\n",
    "\n",
    "If you are curious, keep reading about it in page 711."
   ]
  },
  {
   "cell_type": "markdown",
   "metadata": {},
   "source": [
    "## Object Oriented Programming (OOP)\n",
    "From the Learning Python Book:\n",
    "> One note up front: in Python, OOP is entirely optional, and you don’t need to use classes just to get started. You can get plenty of work done with simpler constructs such as functions, or even simple top-level script code. Because using classes well requires some up-front planning, they tend to be of more interest to people who work in strategic mode (doing long-term product development) than to people who work in tactical mode (where time is in very short supply).\n",
    "\n",
    "### Classes and Objects\n",
    "Think of a **Class** as a structure that defines what an Object of that Class should look like, an **Object** is a specific **instance** of that Class (a *thing* that is compliant with those specifications the Class made).\n",
    "\n",
    "<font color='#9f2561'>\n",
    "ex: Class is a cookie cutter and cookies are objects. Since there can be many *types* os cookie cutters, we can think of them as being objects too. </font>\n",
    "\n",
    "Let's define a very simple class:"
   ]
  },
  {
   "cell_type": "code",
   "execution_count": 1,
   "metadata": {
    "collapsed": true
   },
   "outputs": [],
   "source": [
    "class MyClass:\n",
    "    \"\"\"A simple example class\"\"\" # Docstring describing the Class\n",
    "    i = [12345]\n",
    "    def f(self): # What does this self parameter mean?\n",
    "        return 'hello world'"
   ]
  },
  {
   "cell_type": "markdown",
   "metadata": {},
   "source": [
    "What can we do with it?\n",
    "Class objects support two kinds of operations: \n",
    "1. Attribute references\n",
    "2. Instantiation"
   ]
  },
  {
   "cell_type": "code",
   "execution_count": 2,
   "metadata": {
    "collapsed": false
   },
   "outputs": [
    {
     "name": "stdout",
     "output_type": "stream",
     "text": [
      "Class, will you give me your attribute i? [12345]\n"
     ]
    }
   ],
   "source": [
    "print('Class, will you give me your attribute i?', MyClass.i)"
   ]
  },
  {
   "cell_type": "code",
   "execution_count": 3,
   "metadata": {
    "collapsed": false
   },
   "outputs": [
    {
     "name": "stdout",
     "output_type": "stream",
     "text": [
      "type of object <class '__main__.MyClass'>\n"
     ]
    }
   ],
   "source": [
    "first_object = MyClass()\n",
    "print('type of object', type(first_object))"
   ]
  },
  {
   "cell_type": "markdown",
   "metadata": {},
   "source": [
    "### Be careful with unexpected results in class variables"
   ]
  },
  {
   "cell_type": "code",
   "execution_count": null,
   "metadata": {
    "collapsed": false
   },
   "outputs": [],
   "source": [
    "second_object = MyClass()\n",
    "second_object.i.append('Second object changed the value of i')\n",
    "\n",
    "print('Class, will you give me your attribute i?', MyClass.i)\n",
    "print('First object, will your give me you attribute i?', first_object.i)\n",
    "print('Second object, will your give me you attribute i?', second_object.i)"
   ]
  },
  {
   "cell_type": "markdown",
   "metadata": {},
   "source": [
    "If you intention was for each object to have different values, then this should be an instance variable (attribute belonging to an object and not to the whole class object)\n",
    "\n",
    "But the way we can now build MyClass objects is not very expressive, let's create a constructor for MyClass."
   ]
  },
  {
   "cell_type": "code",
   "execution_count": 4,
   "metadata": {
    "collapsed": true
   },
   "outputs": [],
   "source": [
    "class MyClass:\n",
    "    \"\"\"A simple example class\"\"\"\n",
    "    i = 12345\n",
    "    \n",
    "    def __init__(self, eenie, meenie, miney, mo):\n",
    "        self.eenie = eenie\n",
    "        self.meenie = meenie\n",
    "        self.miney = miney\n",
    "        self.mo = mo\n",
    "    \n",
    "    def f(self):\n",
    "        return 'hello world'"
   ]
  },
  {
   "cell_type": "code",
   "execution_count": 5,
   "metadata": {
    "collapsed": false
   },
   "outputs": [
    {
     "name": "stdout",
     "output_type": "stream",
     "text": [
      "Get me mo attribute: mo\n"
     ]
    }
   ],
   "source": [
    "my_rhyme = MyClass('eenie', 'meenie', 'minie', 'mo')\n",
    "print('Get me mo attribute:', my_rhyme.mo)"
   ]
  },
  {
   "cell_type": "markdown",
   "metadata": {},
   "source": [
    "### In Python attributes are public by default\n",
    "\n",
    "If you are familiar with Java, you might recognize the modifiers `public`, `private` and `protected`. We will not go into the [details](https://docs.oracle.com/javase/tutorial/java/javaOO/accesscontrol.html) but lets just say that every *name* that a Class declares can potentially be accessed publicly by *the client* or not. In Python **attributes are public by default**, this means that the default behavior is to let *the client* see and modify them, if this is not what you *the designer* would like, then you have to explicitely **hide** them from *the client*.\n",
    "\n",
    "Is there an issue with that?\n",
    "\n",
    "Imagine you want to restrict the values of a certain attribute.\n",
    "Let's say we want each attribute in MyClass to have at most as many letters as the attribute name has."
   ]
  },
  {
   "cell_type": "code",
   "execution_count": null,
   "metadata": {
    "collapsed": false
   },
   "outputs": [],
   "source": [
    "# How can I avoid this? Can I avoid it without breaking backward compatibility?\n",
    "my_rhyme.mo = 'looooooooonger'"
   ]
  },
  {
   "cell_type": "code",
   "execution_count": 6,
   "metadata": {
    "collapsed": true
   },
   "outputs": [],
   "source": [
    "class MyClass:\n",
    "    \"\"\"A simple example class\"\"\"\n",
    "    i = 12345\n",
    "    \n",
    "    def __init__(self, eenie, meenie, miney, mo):\n",
    "        self.eenie = eenie\n",
    "        self.meenie = meenie\n",
    "        self.miney = miney\n",
    "        self.mo = mo\n",
    "    \n",
    "    def f(self):\n",
    "        return 'hello world'\n",
    "    \n",
    "    @property\n",
    "    def mo(self):\n",
    "        return self.__mo\n",
    "    \n",
    "    @mo.setter\n",
    "    def mo(self, mo):\n",
    "        if len(mo) > len('mo'):\n",
    "            raise AttributeError\n",
    "        else:\n",
    "            self.__mo = mo"
   ]
  },
  {
   "cell_type": "code",
   "execution_count": 7,
   "metadata": {
    "collapsed": false
   },
   "outputs": [
    {
     "ename": "AttributeError",
     "evalue": "",
     "output_type": "error",
     "traceback": [
      "\u001b[0;31m---------------------------------------------------------------------------\u001b[0m",
      "\u001b[0;31mAttributeError\u001b[0m                            Traceback (most recent call last)",
      "\u001b[0;32m<ipython-input-7-07daac4c58cb>\u001b[0m in \u001b[0;36m<module>\u001b[0;34m()\u001b[0m\n\u001b[1;32m      1\u001b[0m \u001b[0mmy_rhyme\u001b[0m \u001b[0;34m=\u001b[0m \u001b[0mMyClass\u001b[0m\u001b[0;34m(\u001b[0m\u001b[0;34m'eenie'\u001b[0m\u001b[0;34m,\u001b[0m \u001b[0;34m'meenie'\u001b[0m\u001b[0;34m,\u001b[0m \u001b[0;34m'minie'\u001b[0m\u001b[0;34m,\u001b[0m \u001b[0;34m'mo'\u001b[0m\u001b[0;34m)\u001b[0m\u001b[0;34m\u001b[0m\u001b[0m\n\u001b[0;32m----> 2\u001b[0;31m \u001b[0mmy_rhyme\u001b[0m\u001b[0;34m.\u001b[0m\u001b[0mmo\u001b[0m \u001b[0;34m=\u001b[0m \u001b[0;34m'looooooooonger'\u001b[0m\u001b[0;34m\u001b[0m\u001b[0m\n\u001b[0m",
      "\u001b[0;32m<ipython-input-6-9984c4a10559>\u001b[0m in \u001b[0;36mmo\u001b[0;34m(self, mo)\u001b[0m\n\u001b[1;32m     19\u001b[0m     \u001b[0;32mdef\u001b[0m \u001b[0mmo\u001b[0m\u001b[0;34m(\u001b[0m\u001b[0mself\u001b[0m\u001b[0;34m,\u001b[0m \u001b[0mmo\u001b[0m\u001b[0;34m)\u001b[0m\u001b[0;34m:\u001b[0m\u001b[0;34m\u001b[0m\u001b[0m\n\u001b[1;32m     20\u001b[0m         \u001b[0;32mif\u001b[0m \u001b[0mlen\u001b[0m\u001b[0;34m(\u001b[0m\u001b[0mmo\u001b[0m\u001b[0;34m)\u001b[0m \u001b[0;34m>\u001b[0m \u001b[0mlen\u001b[0m\u001b[0;34m(\u001b[0m\u001b[0;34m'mo'\u001b[0m\u001b[0;34m)\u001b[0m\u001b[0;34m:\u001b[0m\u001b[0;34m\u001b[0m\u001b[0m\n\u001b[0;32m---> 21\u001b[0;31m             \u001b[0;32mraise\u001b[0m \u001b[0mAttributeError\u001b[0m\u001b[0;34m\u001b[0m\u001b[0m\n\u001b[0m\u001b[1;32m     22\u001b[0m         \u001b[0;32melse\u001b[0m\u001b[0;34m:\u001b[0m\u001b[0;34m\u001b[0m\u001b[0m\n\u001b[1;32m     23\u001b[0m             \u001b[0mself\u001b[0m\u001b[0;34m.\u001b[0m\u001b[0m__mo\u001b[0m \u001b[0;34m=\u001b[0m \u001b[0mmo\u001b[0m\u001b[0;34m\u001b[0m\u001b[0m\n",
      "\u001b[0;31mAttributeError\u001b[0m: "
     ]
    }
   ],
   "source": [
    "my_rhyme = MyClass('eenie', 'meenie', 'minie', 'mo')\n",
    "my_rhyme.mo = 'looooooooonger'"
   ]
  },
  {
   "cell_type": "markdown",
   "metadata": {},
   "source": [
    "### Inheritance and Composition\n",
    "**Inheritance** is used when you want to built a class of objects that is VERY SIMILAR to another class of objects, but has a particular behavior. Remember the example we gave last class about the class **animal** and the class **dog**. If a dog behaves pretty much like an animal, but also **barks** then we're good.\n",
    "\n",
    "**Composition** is used to build an object as a collection of components that work together. In the same example, what if we had a **four legged** kind of animals and **domestic animals** we can also think about a **dog** as being the composition of these parts that describe some animal behavior.\n",
    "\n",
    "Design patterns suggest that we should favor **Composition** over **Inheritance**.\n",
    "\n",
    "### Polymorphism and Exceptions\n",
    "According to Leonardo Giordani in [this](http://blog.thedigitalcatonline.com/blog/2014/08/21/python-3-oop-part-4-polymorphism/#.WBtlLOErInU) blog post:\n",
    "> EAFP is a Python acronym that stands for easier to ask for forgiveness than permission. This coding style is highly pushed in the Python community because it completely relies on the [duck typing concept](https://en.wikipedia.org/wiki/Duck_typing), thus fitting well with the language philosophy.\n",
    "> The concept behind EAFP is fairly easy: instead of checking if an object has a given attribute or method before actually accessing or using it, just trust the object to provide what you need and manage the error case. This can be probably better understood by looking at some code. According to EAFP, instead of writing\n",
    "\n",
    "Example:"
   ]
  },
  {
   "cell_type": "code",
   "execution_count": 1,
   "metadata": {
    "collapsed": false
   },
   "outputs": [
    {
     "name": "stdout",
     "output_type": "stream",
     "text": [
      "Quaaaaaack!\n",
      "The duck has white and gray feathers.\n",
      "The person imitates a duck.\n",
      "The person takes a feather from the ground and shows it.\n"
     ]
    }
   ],
   "source": [
    "class Duck:\n",
    "    def quack(self):\n",
    "        print(\"Quaaaaaack!\")\n",
    "    def feathers(self):\n",
    "        print(\"The duck has white and gray feathers.\")\n",
    "\n",
    "class Person:\n",
    "    def quack(self):\n",
    "        print(\"The person imitates a duck.\")\n",
    "    def feathers(self):\n",
    "        print(\"The person takes a feather from the ground and shows it.\")\n",
    "    def name(self):\n",
    "        print(\"John Smith\")\n",
    "\n",
    "def in_the_forest(duck):\n",
    "    duck.quack()\n",
    "    duck.feathers()\n",
    "\n",
    "def game():\n",
    "    donald = Duck()\n",
    "    john = Person()\n",
    "    in_the_forest(donald)\n",
    "    in_the_forest(john)\n",
    "\n",
    "game()"
   ]
  },
  {
   "cell_type": "markdown",
   "metadata": {},
   "source": [
    "# NOW, let's get to work!\n",
    "### <font color='blue'>Exercise 1 – Some Module [in development] with a Weird Class</font>\n",
    "A friend asked you to take a look at his module to help him with some development of his super weird Class."
   ]
  },
  {
   "cell_type": "code",
   "execution_count": null,
   "metadata": {
    "collapsed": true
   },
   "outputs": [],
   "source": [
    "import examples.some_module\n",
    "from examples.some_module import WeirdInt"
   ]
  },
  {
   "cell_type": "markdown",
   "metadata": {},
   "source": [
    "Explain what the **WeirdInt** is and what it does in a particular weird way.\n",
    "\n",
    "**Your answer here:**\n",
    "\n",
    "Since you are developing this module, it is probable that you changed something *on the fly*...\n",
    "\n",
    "Modify the **WeirdInt** so that the **__add__** method returns the average of its input parameters."
   ]
  },
  {
   "cell_type": "code",
   "execution_count": null,
   "metadata": {
    "collapsed": true
   },
   "outputs": [],
   "source": [
    "import examples.some_module as sm"
   ]
  },
  {
   "cell_type": "code",
   "execution_count": null,
   "metadata": {
    "collapsed": false
   },
   "outputs": [],
   "source": [
    "x = sm.WeirdInt(2)\n",
    "y = sm.WeirdInt(10)\n",
    "assert(x + y == 6)"
   ]
  },
  {
   "cell_type": "markdown",
   "metadata": {},
   "source": [
    "What happened? How can you fix this **without restarting your Jupyter notebook's kernel**?"
   ]
  },
  {
   "cell_type": "code",
   "execution_count": null,
   "metadata": {
    "collapsed": false
   },
   "outputs": [],
   "source": [
    "# Your answer here:\n",
    "\n",
    "# Try intantiating some other example numbers (say 6 and 4) and check the assertion accordingly\n"
   ]
  },
  {
   "cell_type": "markdown",
   "metadata": {},
   "source": [
    "### <font color='blue'>Exercise 2 – Exception: A Person is not a duck!</font>\n",
    "Modify the class *Person* abobve so that the person no longer has the appropriate *Duck* qualities.\n",
    "What happens in this case when you call the in_the_forest function on a Person?\n",
    "\n",
    "**Your answer:**\n",
    "\n",
    "Do you think you should always check the type of an input parameter in a Function? Why?"
   ]
  },
  {
   "cell_type": "code",
   "execution_count": null,
   "metadata": {
    "collapsed": true
   },
   "outputs": [],
   "source": [
    "class Person:\n",
    "    pass # Define the class Person\n",
    "\n",
    "\n",
    "# Run game() and handle exceptions if necessary"
   ]
  },
  {
   "cell_type": "markdown",
   "metadata": {},
   "source": [
    "### <font color='blue'>Exercise 3 – Design and build a simple library for performing Data Science experiments</font>\n",
    "Please do this exercise in groups of two students.\n",
    "You can start by designing your library in paper and then go about coding it in Python.\n",
    "\n",
    "The library should be compliant with these specifications:\n",
    "- Multiple **Data Sources** to build your final **Dataset** (start with 2, but should be extensible for more)\n",
    "    - The result after data is loaded should be the same, no matter what the data source was.\n",
    "\t- After data is loaded, the library should be able to perform dataset split (the percentage of training, validation and testing is specified)\n",
    "- Multiple **Models** to test\n",
    "    - Parameters for each model might be different\n",
    "\t- Results should be given the same way for all models (they should be consistent)\n",
    "- Run **Configuration**\n",
    "    - It is composed by general parameters that specify how to run the algorithms (independent of the model) and model configuration itself. For example, the number of training iterations or the learning rate or the loss function are independent of the model. The number of leaf nodes in a tree based model is dependent on the model, both are part of the configuration you need to specify.\n",
    "\t- It has to be possibe to keep track of the model configurations that have been tried\n",
    "- **Results**\n",
    "    - You should be able to keep track of results for the training and validation sets for every iteration of the algorithm.\n",
    "    - Once the execution is finished, you should save those results (in a file, for instance)\n",
    "    \n",
    "You can build this as a single **Package** with multiple **Modules**.\n",
    "    \n",
    "Interaction with the library:\n",
    "1. Each run should execute a single model according to a chosen configuration, the configuration should be shared between the data loading and the model execution itself (checkout the Singleton Desing Pattern as a way to accomplish this)\n",
    "2. Once the results are obtained for a model you should save them (there has to be a one-to-one mapping between configuration and results)\n",
    "\n",
    "#### **Notice that you don't need to implement any ML algorithm, you can output reasonable *dummy* results at each point. What is important is that you achieve all requirements.**"
   ]
  },
  {
   "cell_type": "markdown",
   "metadata": {},
   "source": [
    "# References\n",
    "- 1. Lutz, Learning Python.\n",
    "- [Python Course](http://www.python-course.eu/python3_properties.php)\n",
    "- [Polymorphism](http://blog.thedigitalcatonline.com/blog/2014/08/21/python-3-oop-part-4-polymorphism/#.WBtlLOErInU)"
   ]
  },
  {
   "cell_type": "code",
   "execution_count": null,
   "metadata": {
    "collapsed": true
   },
   "outputs": [],
   "source": []
  }
 ],
 "metadata": {
  "anaconda-cloud": {},
  "kernelspec": {
   "display_name": "Python [Root]",
   "language": "python",
   "name": "Python [Root]"
  },
  "language_info": {
   "codemirror_mode": {
    "name": "ipython",
    "version": 3
   },
   "file_extension": ".py",
   "mimetype": "text/x-python",
   "name": "python",
   "nbconvert_exporter": "python",
   "pygments_lexer": "ipython3",
   "version": "3.5.2"
  }
 },
 "nbformat": 4,
 "nbformat_minor": 1
}
